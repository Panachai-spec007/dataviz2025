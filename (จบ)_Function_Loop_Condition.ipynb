{
  "nbformat": 4,
  "nbformat_minor": 0,
  "metadata": {
    "kernelspec": {
      "display_name": "Python 3",
      "language": "python",
      "name": "python3"
    },
    "language_info": {
      "codemirror_mode": {
        "name": "ipython",
        "version": 3
      },
      "file_extension": ".py",
      "mimetype": "text/x-python",
      "name": "python",
      "nbconvert_exporter": "python",
      "pygments_lexer": "ipython3",
      "version": "3.7.4"
    },
    "colab": {
      "provenance": [],
      "include_colab_link": true
    }
  },
  "cells": [
    {
      "cell_type": "markdown",
      "metadata": {
        "id": "view-in-github",
        "colab_type": "text"
      },
      "source": [
        "<a href=\"https://colab.research.google.com/github/Panachai-spec007/dataviz2025/blob/main/(%E0%B8%88%E0%B8%9A)_Function_Loop_Condition.ipynb\" target=\"_parent\"><img src=\"https://colab.research.google.com/assets/colab-badge.svg\" alt=\"Open In Colab\"/></a>"
      ]
    },
    {
      "cell_type": "code",
      "metadata": {
        "colab": {
          "base_uri": "https://localhost:8080/"
        },
        "id": "E9VaaQ6ibPqb",
        "outputId": "3c472c1f-5b8e-4391-acad-0c2f81c49b9f"
      },
      "source": [
        "name = 'ภัทรวรรธน์'\n",
        "surname = 'ใจเที่ยง'\n",
        "ID = '603021866-7'\n",
        "\n",
        "b= f'ชื่อ {name} นามสกุล {surname} รหัส {ID}'\n",
        "print(b)"
      ],
      "execution_count": null,
      "outputs": [
        {
          "output_type": "stream",
          "text": [
            "ชื่อ ภัทรวรรธน์ นามสกุล ใจเที่ยง รหัส 603021866-7\n"
          ],
          "name": "stdout"
        }
      ]
    },
    {
      "cell_type": "code",
      "source": [
        "dict_a = {'abc': 123,'def': 456,'ghi':789}"
      ],
      "metadata": {
        "id": "VuEo7a1rS2FG"
      },
      "execution_count": null,
      "outputs": []
    },
    {
      "cell_type": "code",
      "source": [
        "dict_a"
      ],
      "metadata": {
        "colab": {
          "base_uri": "https://localhost:8080/"
        },
        "id": "SzHIaikaTLix",
        "outputId": "fbf8714f-41ff-48b1-b1d7-9f38b071d7aa"
      },
      "execution_count": null,
      "outputs": [
        {
          "output_type": "execute_result",
          "data": {
            "text/plain": [
              "{'abc': 123, 'def': 456, 'ghi': 789}"
            ]
          },
          "metadata": {},
          "execution_count": 2
        }
      ]
    },
    {
      "cell_type": "code",
      "source": [
        "dict_a['def']"
      ],
      "metadata": {
        "colab": {
          "base_uri": "https://localhost:8080/"
        },
        "id": "KsmerA9xTNux",
        "outputId": "bf9ffcb3-5462-41c3-8c6f-2f775815ff77"
      },
      "execution_count": null,
      "outputs": [
        {
          "output_type": "execute_result",
          "data": {
            "text/plain": [
              "456"
            ]
          },
          "metadata": {},
          "execution_count": 3
        }
      ]
    },
    {
      "cell_type": "code",
      "source": [
        "dict_b ={}"
      ],
      "metadata": {
        "id": "Tt87jF6TTc5G"
      },
      "execution_count": null,
      "outputs": []
    },
    {
      "cell_type": "code",
      "source": [
        "dict_b['a'] = 123"
      ],
      "metadata": {
        "id": "kyCZw72kTf3M"
      },
      "execution_count": null,
      "outputs": []
    },
    {
      "cell_type": "code",
      "source": [
        "dict_b"
      ],
      "metadata": {
        "colab": {
          "base_uri": "https://localhost:8080/"
        },
        "id": "Mr5BwlQqTmMH",
        "outputId": "7e323977-3868-47d9-8e06-a6f139542be4"
      },
      "execution_count": null,
      "outputs": [
        {
          "output_type": "execute_result",
          "data": {
            "text/plain": [
              "{'a': 123}"
            ]
          },
          "metadata": {},
          "execution_count": 6
        }
      ]
    },
    {
      "cell_type": "code",
      "source": [
        "dict_b['b'] = 456"
      ],
      "metadata": {
        "id": "INoEqkgRVIxt"
      },
      "execution_count": null,
      "outputs": []
    },
    {
      "cell_type": "code",
      "source": [
        "dict_b"
      ],
      "metadata": {
        "colab": {
          "base_uri": "https://localhost:8080/"
        },
        "id": "D98Q8BNTVL1c",
        "outputId": "56a027a6-14af-4d11-e91a-c737554d7822"
      },
      "execution_count": null,
      "outputs": [
        {
          "output_type": "execute_result",
          "data": {
            "text/plain": [
              "{'a': 123, 'b': 456}"
            ]
          },
          "metadata": {},
          "execution_count": 8
        }
      ]
    },
    {
      "cell_type": "markdown",
      "source": [
        "# **การ add สมาชิกเข้าไปใน dict**"
      ],
      "metadata": {
        "id": "gBiiMK26VPbF"
      }
    },
    {
      "cell_type": "code",
      "source": [
        "if'b' not in dict_b:\n",
        "    dict_b['b'] = 123"
      ],
      "metadata": {
        "id": "r5hRsUkuU6JM"
      },
      "execution_count": null,
      "outputs": []
    },
    {
      "cell_type": "code",
      "source": [
        "dict_b"
      ],
      "metadata": {
        "colab": {
          "base_uri": "https://localhost:8080/"
        },
        "id": "GF4jHkQ8VNc_",
        "outputId": "af6098d9-4f1b-4df9-f308-17ce2518caf1"
      },
      "execution_count": null,
      "outputs": [
        {
          "output_type": "execute_result",
          "data": {
            "text/plain": [
              "{'a': 123, 'b': 456}"
            ]
          },
          "metadata": {},
          "execution_count": 10
        }
      ]
    },
    {
      "cell_type": "markdown",
      "metadata": {
        "id": "-57L9aVubPqU"
      },
      "source": [
        "# Function"
      ]
    },
    {
      "cell_type": "markdown",
      "metadata": {
        "id": "1DNzYhO4bPqb"
      },
      "source": [
        "## Function template\n",
        "#### ทำหน้าที่รับ input มาประมวณผลออกมาเป็น output\n",
        "#### f(x) = y"
      ]
    },
    {
      "cell_type": "markdown",
      "metadata": {
        "id": "3Nv1ZDEKbPqc"
      },
      "source": [
        "### def คือการกำหนดฟังก์ชัน"
      ]
    },
    {
      "cell_type": "markdown",
      "metadata": {
        "id": "YnjWc1vXl1VF"
      },
      "source": [
        "\n",
        "backtick (`) ==> กด ~ ค้าง, alt - 9>6 (full keyboard with number)\n",
        "\n",
        "tilde (~)\n",
        "\n",
        "curly bracket ({ })\n",
        "\n",
        "square bracket ([ ])"
      ]
    },
    {
      "cell_type": "markdown",
      "metadata": {
        "id": "DbHDoWEabPqc"
      },
      "source": [
        "```python\n",
        "    def function_name(_Input_) :\n",
        "        do_something with _Input_ to get _Output_\n",
        "        return _Output_\n",
        "```"
      ]
    },
    {
      "cell_type": "markdown",
      "metadata": {
        "id": "kh2M1smCl5Iv"
      },
      "source": [
        "function มีส่วนสำคัญทั้งหมด 4 ส่วน\n",
        "\n",
        "1.   บอก python ว่าเราจะเขียนฟังก์ชั่น ชื่ออะไร  ```def function_name():``` (ขาดไม่ได้)\n",
        "2.   กำหนดตัวแปรที่จะเป็น input  ```_Input_``` (ขาดได้)\n",
        "3.   ส่วนประมวลผล ```do_something with _Input_ to get _Output_``` (ขาดไม่ได้)\n",
        "4.   ส่วน output ```return _Output_```(ขาดได้)\n",
        "\n"
      ]
    },
    {
      "cell_type": "markdown",
      "metadata": {
        "id": "lqWzVN5AbPqc"
      },
      "source": [
        "#### ตัวอย่างการเขียน normal function\n"
      ]
    },
    {
      "cell_type": "code",
      "metadata": {
        "id": "n706WULobPqc"
      },
      "source": [
        "def print_name(surname,ID,name):\n",
        "    st = f'ชื่อ {name} นามสกุล {surname} รหัส {ID}'\n",
        "    return st"
      ],
      "execution_count": null,
      "outputs": []
    },
    {
      "cell_type": "code",
      "metadata": {
        "colab": {
          "base_uri": "https://localhost:8080/",
          "height": 35
        },
        "id": "muh0pi_Gkym8",
        "outputId": "c6bb8bb0-3791-4669-f34b-cf873e7ebd7e"
      },
      "source": [
        "print_name('อินทระ','64xxxxxx','ธนพงศ์')"
      ],
      "execution_count": null,
      "outputs": [
        {
          "output_type": "execute_result",
          "data": {
            "text/plain": [
              "'ชื่อ ธนพงศ์ นามสกุล อินทระ รหัส 64xxxxxx'"
            ],
            "application/vnd.google.colaboratory.intrinsic+json": {
              "type": "string"
            }
          },
          "metadata": {},
          "execution_count": 12
        }
      ]
    },
    {
      "cell_type": "code",
      "metadata": {
        "colab": {
          "base_uri": "https://localhost:8080/"
        },
        "id": "I1Kt_GOpbPqd",
        "outputId": "6601400d-2b24-40de-86d3-32e02ba9f160"
      },
      "source": [
        "print(print_name(name='กาญจนา',surname='ประสาคุณ',ID='603021855-2'))"
      ],
      "execution_count": null,
      "outputs": [
        {
          "output_type": "stream",
          "name": "stdout",
          "text": [
            "ชื่อ กาญจนา นามสกุล ประสาคุณ รหัส 603021855-2\n"
          ]
        }
      ]
    },
    {
      "cell_type": "markdown",
      "metadata": {
        "id": "1fuimreqpVhU"
      },
      "source": [
        "เราใช้ เว้นวรรค (indent) เพื่อบอกขอบเขตของโปรแกรม"
      ]
    },
    {
      "cell_type": "markdown",
      "metadata": {
        "id": "tSV-FUQBpx0i"
      },
      "source": [
        "ฟังก์ชั่นไม่จำเป็นต้องมี output"
      ]
    },
    {
      "cell_type": "code",
      "metadata": {
        "id": "loNAFSvLo5dC"
      },
      "source": [
        "def print_name2(surname,ID,name):\n",
        "    st = f'ชื่อ {name} นามสกุล {surname} รหัส {ID}'\n",
        "    print(st)"
      ],
      "execution_count": null,
      "outputs": []
    },
    {
      "cell_type": "code",
      "metadata": {
        "colab": {
          "base_uri": "https://localhost:8080/"
        },
        "id": "JE88oCj8o_j_",
        "outputId": "e4388ec3-2203-452b-862a-a1311ef4775b"
      },
      "source": [
        "print_name2(name='กาญจนา',surname='ประสาคุณ',ID='603021855-2')"
      ],
      "execution_count": null,
      "outputs": [
        {
          "output_type": "stream",
          "text": [
            "ชื่อ กาญจนา นามสกุล ประสาคุณ รหัส 603021855-2\n"
          ],
          "name": "stdout"
        }
      ]
    },
    {
      "cell_type": "markdown",
      "metadata": {
        "id": "JF4RdyEBqPyl"
      },
      "source": [
        "ฟังก์ชั่นไม่จำเป็นต้องมี input"
      ]
    },
    {
      "cell_type": "code",
      "metadata": {
        "id": "LNb_o_ZXo_gh"
      },
      "source": [
        "def Pi():\n",
        "    return 3.14159265359"
      ],
      "execution_count": null,
      "outputs": []
    },
    {
      "cell_type": "code",
      "metadata": {
        "colab": {
          "base_uri": "https://localhost:8080/"
        },
        "id": "htN6zLbFo_dr",
        "outputId": "128900bc-95a7-4cd7-bf47-cc4b1d0053f1"
      },
      "source": [
        "Pi()*(2**2) # หาพื้นที่ของวงกลมที่มีรัศมีเท่ากับ Pi * r^2"
      ],
      "execution_count": null,
      "outputs": [
        {
          "output_type": "execute_result",
          "data": {
            "text/plain": [
              "12.56637061436"
            ]
          },
          "metadata": {},
          "execution_count": 16
        }
      ]
    },
    {
      "cell_type": "markdown",
      "metadata": {
        "id": "ywc0Ho-_rUTu"
      },
      "source": [
        "## เราสามารถกำหนดค่า default ให้กับฟังก์ชั่นได้"
      ]
    },
    {
      "cell_type": "markdown",
      "metadata": {
        "id": "y_74dHkjxS7f"
      },
      "source": [
        "input ของ function ใน python มีสองแบบ input ที่จำเป็นต้องใส่ กับ input ที่ไม่จำเป็นต้องใส่ (มีค่า default)\n",
        "\n",
        "เราต้องเรียง input ที่จำเป็นต้องใส่ขึ้นก่อน"
      ]
    },
    {
      "cell_type": "code",
      "metadata": {
        "id": "0Lrh-6mAo_bA"
      },
      "source": [
        "def print_2lines_default(name,surname,ID,grade='F'):\n",
        "    st = f'ชื่อ {name} นามสกุล {surname} รหัส {ID}'\n",
        "    print (st)\n",
        "    st2=f'เกรดวิชา Data Viz >>> {grade}'\n",
        "    print(st2)"
      ],
      "execution_count": null,
      "outputs": []
    },
    {
      "cell_type": "code",
      "metadata": {
        "colab": {
          "base_uri": "https://localhost:8080/"
        },
        "id": "ZH31VIjko_WP",
        "outputId": "3582a6fb-2fb4-4a00-b02f-8f2c1ae7601b"
      },
      "source": [
        "print_2lines_default('ธันยาการต์','พวงมาลัย','613020551-8')"
      ],
      "execution_count": null,
      "outputs": [
        {
          "output_type": "stream",
          "name": "stdout",
          "text": [
            "ชื่อ ธันยาการต์ นามสกุล พวงมาลัย รหัส 613020551-8\n",
            "เกรดวิชา Data Viz >>> F\n"
          ]
        }
      ]
    },
    {
      "cell_type": "code",
      "metadata": {
        "colab": {
          "base_uri": "https://localhost:8080/"
        },
        "id": "FKGr2Iyuo_S2",
        "outputId": "32fe3d32-86e9-4d06-b627-f7f448f3ef1f"
      },
      "source": [
        "print_2lines_default('ธันยาการต์','พวงมาลัย','613020551-8','A')"
      ],
      "execution_count": null,
      "outputs": [
        {
          "output_type": "stream",
          "name": "stdout",
          "text": [
            "ชื่อ ธันยาการต์ นามสกุล พวงมาลัย รหัส 613020551-8\n",
            "เกรดวิชา Data Viz >>> A\n"
          ]
        }
      ]
    },
    {
      "cell_type": "markdown",
      "source": [
        "# **Quiz 5**"
      ],
      "metadata": {
        "id": "jEKaLBcSbzx8"
      }
    },
    {
      "cell_type": "code",
      "source": [
        "def time_to_seconds(time_str):\n",
        "    h, m, s = map(int, time_str.split(':'))\n",
        "    total_seconds = h * 3600 + m * 60 + s\n",
        "    return total_seconds\n",
        "def time_difference_in_seconds(start, end):\n",
        "    start_sec = time_to_seconds(start)\n",
        "    end_sec = time_to_seconds(end)\n",
        "    return end_sec - start_sec\n",
        "#prompt เขียนฟังก์ชันคำนวณวินาทีจาก เวลาที่ใส่เข้ามา"
      ],
      "metadata": {
        "id": "fKUnO0q2b39p"
      },
      "execution_count": null,
      "outputs": []
    },
    {
      "cell_type": "code",
      "source": [
        "    print(time_difference_in_seconds(\"12:30:15\", \"13:41:07\"))"
      ],
      "metadata": {
        "colab": {
          "base_uri": "https://localhost:8080/"
        },
        "id": "io-I9xsNcg0P",
        "outputId": "23aa7969-8729-49e9-8592-bd2c13c9fbd4"
      },
      "execution_count": null,
      "outputs": [
        {
          "output_type": "stream",
          "name": "stdout",
          "text": [
            "4252\n"
          ]
        }
      ]
    },
    {
      "cell_type": "markdown",
      "source": [
        "# **Quiz 6**\n",
        "เขียน funtion ของ HW2 มีการใช้ค่า default ของ input\n",
        "โดยถ้าวันที่กรอกเป็นวันเดียวกันให้ไม่ต้องกรอกเลยหรือกรอกแค่ 1 ตัว"
      ],
      "metadata": {
        "id": "mxLYGyQrfrbk"
      }
    },
    {
      "cell_type": "code",
      "source": [
        "def time_diff(start_time, end_time, start_day=\"Same\", end_day=None):\n",
        "    days = ['Monday', 'Tuesday', 'Wednesday', 'Thursday', 'Friday', 'Saturday', 'Sunday']\n",
        "\n",
        "    def time_to_seconds(time_str):\n",
        "        h, m, s = map(int, time_str.split(\":\"))\n",
        "        return h * 3600 + m * 60 + s\n",
        "\n",
        "    # ถ้า start_day ไม่ระบุ หรือเป็น \"Same\" → ใช้ end_day แทน\n",
        "    if start_day == \"Same\":\n",
        "        start_day = end_day or \"Monday\"  # ถ้าไม่มี end_day เลย → Monday\n",
        "\n",
        "    # ถ้า end_day ไม่ระบุ → ใช้ start_day\n",
        "    if end_day is None:\n",
        "        end_day = start_day\n",
        "\n",
        "    # index ของวันในสัปดาห์\n",
        "    start_day_index = days.index(start_day)\n",
        "    end_day_index = days.index(end_day)\n",
        "\n",
        "    # ความต่างของวัน (เผื่อข้ามสัปดาห์)\n",
        "    day_diff = (end_day_index - start_day_index) % 7\n",
        "\n",
        "    # แปลงเวลาเป็นวินาที\n",
        "    start_sec = time_to_seconds(start_time)\n",
        "    end_sec = time_to_seconds(end_time)\n",
        "\n",
        "\n",
        "\n",
        "    # ถ้าเป็นวันเดียวกัน แต่ end_time < start_time → ต้องข้ามวัน\n",
        "    if day_diff == 0 and end_sec < start_sec:\n",
        "        day_diff = 1\n",
        "\n",
        "    total_seconds = day_diff * 86400 + (end_sec - start_sec)\n",
        "\n",
        "    return total_seconds\n",
        "    #prompt:เขียน funtion ของ HW2 มีการใช้ค่า default ของ input โดยถ้าวันที่กรอกเป็นวันเดียวกันให้ไม่ต้องกรอกเลยหรือกรอกแค่ 1 ตัว\n",
        "\n"
      ],
      "metadata": {
        "id": "ZaoYuXhAfz_v"
      },
      "execution_count": null,
      "outputs": []
    },
    {
      "cell_type": "code",
      "source": [
        "print(time_diff(\"12:30:15\", \"13:41:07\"))\n",
        "\n",
        "print(time_diff(\"23:00:00\", \"01:00:00\", start_day=\"Monday\", end_day=\"Tuesday\"))\n",
        "\n",
        "print(time_diff(\"23:00:00\", \"01:00:00\", end_day=\"Tuesday\"))\n",
        "\n",
        "print(time_diff(\"20:00:00\", \"03:00:00\",end_day=\"Monday\"))\n",
        "\n",
        "print(time_diff(\"12:00:00\"))\n",
        "\n",
        "print(time_diff(\"23:00:00\", \"01:00:00\"))"
      ],
      "metadata": {
        "colab": {
          "base_uri": "https://localhost:8080/",
          "height": 280
        },
        "id": "wwiD5p4wgzHK",
        "outputId": "7cf52f2d-a30d-4fa5-e14d-239c69e38625"
      },
      "execution_count": null,
      "outputs": [
        {
          "output_type": "stream",
          "name": "stdout",
          "text": [
            "4252\n",
            "7200\n",
            "7200\n",
            "25200\n"
          ]
        },
        {
          "output_type": "error",
          "ename": "TypeError",
          "evalue": "time_diff() missing 1 required positional argument: 'end_time'",
          "traceback": [
            "\u001b[0;31m---------------------------------------------------------------------------\u001b[0m",
            "\u001b[0;31mTypeError\u001b[0m                                 Traceback (most recent call last)",
            "\u001b[0;32m/tmp/ipython-input-28-642641596.py\u001b[0m in \u001b[0;36m<cell line: 0>\u001b[0;34m()\u001b[0m\n\u001b[1;32m      7\u001b[0m \u001b[0mprint\u001b[0m\u001b[0;34m(\u001b[0m\u001b[0mtime_diff\u001b[0m\u001b[0;34m(\u001b[0m\u001b[0;34m\"20:00:00\"\u001b[0m\u001b[0;34m,\u001b[0m \u001b[0;34m\"03:00:00\"\u001b[0m\u001b[0;34m,\u001b[0m\u001b[0mend_day\u001b[0m\u001b[0;34m=\u001b[0m\u001b[0;34m\"Monday\"\u001b[0m\u001b[0;34m)\u001b[0m\u001b[0;34m)\u001b[0m\u001b[0;34m\u001b[0m\u001b[0;34m\u001b[0m\u001b[0m\n\u001b[1;32m      8\u001b[0m \u001b[0;34m\u001b[0m\u001b[0m\n\u001b[0;32m----> 9\u001b[0;31m \u001b[0mprint\u001b[0m\u001b[0;34m(\u001b[0m\u001b[0mtime_diff\u001b[0m\u001b[0;34m(\u001b[0m\u001b[0;34m\"12:00:00\"\u001b[0m\u001b[0;34m)\u001b[0m\u001b[0;34m)\u001b[0m\u001b[0;34m\u001b[0m\u001b[0;34m\u001b[0m\u001b[0m\n\u001b[0m\u001b[1;32m     10\u001b[0m \u001b[0;34m\u001b[0m\u001b[0m\n\u001b[1;32m     11\u001b[0m \u001b[0mprint\u001b[0m\u001b[0;34m(\u001b[0m\u001b[0mtime_diff\u001b[0m\u001b[0;34m(\u001b[0m\u001b[0;34m\"23:00:00\"\u001b[0m\u001b[0;34m,\u001b[0m \u001b[0;34m\"01:00:00\"\u001b[0m\u001b[0;34m)\u001b[0m\u001b[0;34m)\u001b[0m\u001b[0;34m\u001b[0m\u001b[0;34m\u001b[0m\u001b[0m\n",
            "\u001b[0;31mTypeError\u001b[0m: time_diff() missing 1 required positional argument: 'end_time'"
          ]
        }
      ]
    },
    {
      "cell_type": "markdown",
      "metadata": {
        "id": "UB5fTAr3bPqg"
      },
      "source": [
        "# LOOP การวนซ้ำ"
      ]
    },
    {
      "cell_type": "markdown",
      "metadata": {
        "id": "gpIwjDjg0gfJ"
      },
      "source": [
        "for เป็นคำที่ใช้บอก python ว่าเรากำลังเขียน loop\n",
        "โดย for จะวนดึงสมาชิกจาก ```listA``` มาทำ process ```do_something```"
      ]
    },
    {
      "cell_type": "markdown",
      "metadata": {
        "id": "6XS2wO4_bPqg"
      },
      "source": [
        "```python\n",
        "    for each_member in listA :\n",
        "        do_something\n",
        "```"
      ]
    },
    {
      "cell_type": "markdown",
      "source": [
        "#**HW3 เพิ่ม loop เข้าไปใน Quiz 6 โดยวนลูป คำนวน วินาที ในโจทย์ ต่อไปนี้**\n",
        "\n",
        "[\n",
        "    (\"10:00:00\", \"Monday\", \"11:30:00\", 5400),  # Same day, later time\n",
        "\n",
        "    (\"11:30:00\", \"Monday\", \"10:00:00\", \"Monday\", 5400),  # Same day, earlier time\n",
        "\n",
        "    (\"23:00:00\", \"Sunday\", \"01:00:00\", , 7200),  # Cross midnight\n",
        "    \n",
        "    (\"01:00:00\", \"Monday\", \"23:00:00\", \"Sunday\", 7200),  # Cross midnight (reverse)\n",
        "\n",
        "    (\"10:00:00\", \"Tuesday\", \"11:30:00\", \"Thursday\", 178200), # Multiple days difference\n",
        "\n",
        "    (\"11:30:00\", \"Thursday\", \"10:00:00\", \"Tuesday\", 178200), # Multiple days difference (reverse)\n",
        "\n",
        "    (\"12:00:00\", \"Monday\", \"12:00:00\", \"Monday\", 0),      # Same time, same day\n",
        "\n",
        "    (\"12:00:00\", \"Monday\", \"12:00:00\", \"Tuesday\", 24*3600), # Same time, next day\n",
        "\n",
        "    (\"00:00:00\", \"Monday\", \"23:59:59\", , 24*3600 - 1), # Almost 24 hours later\n",
        "\n",
        "    (\"23:59:59\", \"Sunday\", \"00:00:00\", \"Monday\", 1),       # One second difference across midnight\n",
        "]\n"
      ],
      "metadata": {
        "id": "czJrBQrdLZ71"
      }
    },
    {
      "cell_type": "code",
      "source": [
        "def time_diff(start_time, end_time, start_day=\"Same\", end_day=None):\n",
        "    days = ['Monday', 'Tuesday', 'Wednesday', 'Thursday', 'Friday', 'Saturday', 'Sunday']\n",
        "\n",
        "    def time_to_seconds(time_str):\n",
        "        h, m, s = map(int, time_str.split(\":\"))\n",
        "        return h * 3600 + m * 60 + s\n",
        "\n",
        "    if start_day == \"Same\":\n",
        "        start_day = end_day or \"Monday\"\n",
        "\n",
        "    # กรณี end_day ไม่ระบุ → ตรวจว่า end_time < start_time → ข้ามวัน\n",
        "    if end_day is None:\n",
        "        end_sec = time_to_seconds(end_time)\n",
        "        start_sec = time_to_seconds(start_time)\n",
        "        start_index = days.index(start_day)\n",
        "        if end_sec < start_sec:\n",
        "            end_index = (start_index + 1) % 7\n",
        "        else:\n",
        "            end_index = start_index\n",
        "        end_day = days[end_index]\n",
        "\n",
        "    start_index = days.index(start_day)\n",
        "    end_index = days.index(end_day)\n",
        "\n",
        "    start_total = start_index * 86400 + time_to_seconds(start_time)\n",
        "    end_total = end_index * 86400 + time_to_seconds(end_time)\n",
        "\n",
        "    diff = abs(end_total - start_total)\n",
        "    one_week = 7 * 86400\n",
        "    return min(diff, one_week - diff)\n",
        "test_cases = [\n",
        "    (\"10:00:00\", \"Monday\", \"11:30:00\", None, 5400),\n",
        "    (\"11:30:00\", \"Monday\", \"10:00:00\", \"Monday\", 5400),\n",
        "    (\"23:00:00\", \"Sunday\", \"01:00:00\", None, 7200),\n",
        "    (\"01:00:00\", \"Monday\", \"23:00:00\", \"Sunday\", 7200),\n",
        "    (\"10:00:00\", \"Tuesday\", \"11:30:00\", \"Thursday\", 178200),\n",
        "    (\"11:30:00\", \"Thursday\", \"10:00:00\", \"Tuesday\", 178200),\n",
        "    (\"12:00:00\", \"Monday\", \"12:00:00\", \"Monday\", 0),\n",
        "    (\"12:00:00\", \"Monday\", \"12:00:00\", \"Tuesday\", 86400),\n",
        "    (\"00:00:00\", \"Monday\", \"23:59:59\", None, 86399),\n",
        "    (\"23:59:59\", \"Sunday\", \"00:00:00\", \"Monday\", 1),\n",
        "]\n",
        "\n",
        "for i, (start, day1, end, day2, expected) in enumerate(test_cases, 1):\n",
        "    result = time_diff(start, end, day1, day2)\n",
        "    status = \"✅\" if result == expected else f\"❌ (got {result})\"\n",
        "    print(f\"{i:2}. {start} {day1} → {end} {day2 or ''} = {result} | Expected: {expected} {status}\")\n",
        "\n"
      ],
      "metadata": {
        "colab": {
          "base_uri": "https://localhost:8080/"
        },
        "id": "u18ZKio0S9B6",
        "outputId": "43abad6c-cadf-41f1-b143-9dae534de7aa"
      },
      "execution_count": null,
      "outputs": [
        {
          "output_type": "stream",
          "name": "stdout",
          "text": [
            " 1. 10:00:00 Monday → 11:30:00  = 5400 | Expected: 5400 ✅\n",
            " 2. 11:30:00 Monday → 10:00:00 Monday = 5400 | Expected: 5400 ✅\n",
            " 3. 23:00:00 Sunday → 01:00:00  = 7200 | Expected: 7200 ✅\n",
            " 4. 01:00:00 Monday → 23:00:00 Sunday = 7200 | Expected: 7200 ✅\n",
            " 5. 10:00:00 Tuesday → 11:30:00 Thursday = 178200 | Expected: 178200 ✅\n",
            " 6. 11:30:00 Thursday → 10:00:00 Tuesday = 178200 | Expected: 178200 ✅\n",
            " 7. 12:00:00 Monday → 12:00:00 Monday = 0 | Expected: 0 ✅\n",
            " 8. 12:00:00 Monday → 12:00:00 Tuesday = 86400 | Expected: 86400 ✅\n",
            " 9. 00:00:00 Monday → 23:59:59  = 86399 | Expected: 86399 ✅\n",
            "10. 23:59:59 Sunday → 00:00:00 Monday = 1 | Expected: 1 ✅\n"
          ]
        }
      ]
    },
    {
      "cell_type": "markdown",
      "metadata": {
        "id": "d7kQ2AEcbPqg"
      },
      "source": [
        "#### คำสั่ง for เป็นคำสั่งวนซ้ำที่ใช้ควบคุมการทำงานซ้ำๆ ในจำนวนรอบที่แน่นอน"
      ]
    },
    {
      "cell_type": "code",
      "metadata": {
        "colab": {
          "base_uri": "https://localhost:8080/"
        },
        "id": "NcT-s7TEbPqg",
        "outputId": "2b283a92-18e2-4ac1-b9bc-e077db96f916"
      },
      "source": [
        "for i in [1,2,3] :\n",
        "    o = i**2\n",
        "    print (f'this member = {i} after process = {o}')"
      ],
      "execution_count": null,
      "outputs": [
        {
          "output_type": "stream",
          "text": [
            "this member = 1 after process = 1\n",
            "this member = 2 after process = 4\n",
            "this member = 3 after process = 9\n"
          ],
          "name": "stdout"
        }
      ]
    },
    {
      "cell_type": "markdown",
      "metadata": {
        "id": "NMR1PEt62bqZ"
      },
      "source": [
        "# จบวันที่ 7 มค 2564"
      ]
    },
    {
      "cell_type": "markdown",
      "metadata": {
        "id": "YbnFaiU2bPqg"
      },
      "source": [
        "#### ตัวอย่างการใช้คำสั่ง for ในการวนซ้ำค่าของ i เมื่อ i คือ 'Thanapong' และคำสั่ง print(f'{i} -> /') เพื่อกำหนดให้ผลลัพธ์แสดงสัญลักษณ์ -> /  จากนั้นเพิ่มคำสั่ง print(' ') อีกครั้งเพื่อให้ผลลัพธ์มีการเว้นวรรค¶"
      ]
    },
    {
      "cell_type": "code",
      "metadata": {
        "id": "kstoI_CEbPqh",
        "outputId": "d4229c08-7f1a-4994-c08d-ff59d1c2838b",
        "colab": {
          "base_uri": "https://localhost:8080/"
        }
      },
      "source": [
        "for i in 'Thanapong':\n",
        "    print(f'{i} -> / ' )"
      ],
      "execution_count": null,
      "outputs": [
        {
          "output_type": "stream",
          "text": [
            "T -> / \n",
            "h -> / \n",
            "a -> / \n",
            "n -> / \n",
            "a -> / \n",
            "p -> / \n",
            "o -> / \n",
            "n -> / \n",
            "g -> / \n"
          ],
          "name": "stdout"
        }
      ]
    },
    {
      "cell_type": "code",
      "metadata": {
        "id": "mQmh0Ip-V8qR",
        "outputId": "a67e887f-abee-445c-dd33-16eb805b5418",
        "colab": {
          "base_uri": "https://localhost:8080/"
        }
      },
      "source": [
        "for i in 'Thanapong':\n",
        "    print(f'{i} -> / ' ,end = '') #สั่งให้ print แบบ ไม่เว้นบรรทัด"
      ],
      "execution_count": null,
      "outputs": [
        {
          "output_type": "stream",
          "text": [
            "T -> / h -> / a -> / n -> / a -> / p -> / o -> / n -> / g -> / "
          ],
          "name": "stdout"
        }
      ]
    },
    {
      "cell_type": "code",
      "metadata": {
        "id": "rswo2JlyW0Ou",
        "outputId": "85003545-c15a-4eef-ca51-12b34ffc13ad",
        "colab": {
          "base_uri": "https://localhost:8080/"
        }
      },
      "source": [
        "for i in 'Thanapong':\n",
        "    print(f'{i} -> / ' ,end = ',') #สั่งให้ print แบบ ไม่เว้นบรรทัด"
      ],
      "execution_count": null,
      "outputs": [
        {
          "output_type": "stream",
          "text": [
            "T -> / ,h -> / ,a -> / ,n -> / ,a -> / ,p -> / ,o -> / ,n -> / ,g -> / ,"
          ],
          "name": "stdout"
        }
      ]
    },
    {
      "cell_type": "markdown",
      "metadata": {
        "id": "3_I0IHOqXMIr"
      },
      "source": [
        "## สร้าง list ตัวเลขแบบอัตโนมัติ  range()"
      ]
    },
    {
      "cell_type": "code",
      "metadata": {
        "id": "ensAuLXBW-0P",
        "outputId": "f00a58d7-d9d7-4fb6-a11d-cf375cf362c7",
        "colab": {
          "base_uri": "https://localhost:8080/"
        }
      },
      "source": [
        "range5_output = range(5)\n",
        "print(list(range5_output))"
      ],
      "execution_count": null,
      "outputs": [
        {
          "output_type": "stream",
          "text": [
            "[0, 1, 2, 3, 4]\n"
          ],
          "name": "stdout"
        }
      ]
    },
    {
      "cell_type": "code",
      "metadata": {
        "id": "r8JXggPKXrEx",
        "outputId": "089ce907-1dd6-4734-9594-a014968cc33a",
        "colab": {
          "base_uri": "https://localhost:8080/"
        }
      },
      "source": [
        "for i in range(100):\n",
        "    print('งง',end=' ')"
      ],
      "execution_count": null,
      "outputs": [
        {
          "output_type": "stream",
          "text": [
            "งง งง งง งง งง งง งง งง งง งง งง งง งง งง งง งง งง งง งง งง งง งง งง งง งง งง งง งง งง งง งง งง งง งง งง งง งง งง งง งง งง งง งง งง งง งง งง งง งง งง งง งง งง งง งง งง งง งง งง งง งง งง งง งง งง งง งง งง งง งง งง งง งง งง งง งง งง งง งง งง งง งง งง งง งง งง งง งง งง งง งง งง งง งง งง งง งง งง งง งง "
          ],
          "name": "stdout"
        }
      ]
    },
    {
      "cell_type": "code",
      "metadata": {
        "id": "RLvhNqw8YpKa",
        "outputId": "4a0f60d8-2c26-4a2a-d281-eb44d3a0d2b2",
        "colab": {
          "base_uri": "https://localhost:8080/"
        }
      },
      "source": [
        "list(range(1,11)) #เริ่มต้นเป็นวงทึบ จบเป็นวงกลมโปร่ง เหมือน list slicing"
      ],
      "execution_count": null,
      "outputs": [
        {
          "output_type": "execute_result",
          "data": {
            "text/plain": [
              "[1, 2, 3, 4, 5, 6, 7, 8, 9, 10]"
            ]
          },
          "metadata": {
            "tags": []
          },
          "execution_count": 9
        }
      ]
    },
    {
      "cell_type": "code",
      "metadata": {
        "id": "MqXQ9NLGcW-r",
        "outputId": "6fafadb7-ee19-423d-a6ee-2d24b3389986",
        "colab": {
          "base_uri": "https://localhost:8080/"
        }
      },
      "source": [
        "list(range(-3,20,4))"
      ],
      "execution_count": null,
      "outputs": [
        {
          "output_type": "execute_result",
          "data": {
            "text/plain": [
              "[-3, 1, 5, 9, 13, 17]"
            ]
          },
          "metadata": {
            "tags": []
          },
          "execution_count": 11
        }
      ]
    },
    {
      "cell_type": "markdown",
      "metadata": {
        "id": "vPcR4tJebPqi"
      },
      "source": [
        "### loop in loop\n",
        "#### สามารถใช้ for loop ซ้อนกันสองรอบได้¶"
      ]
    },
    {
      "cell_type": "code",
      "metadata": {
        "id": "TKRcpd5DbPqi",
        "outputId": "83f66d64-c4c9-4c96-b70d-04cde345af6b",
        "colab": {
          "base_uri": "https://localhost:8080/"
        }
      },
      "source": [
        "for name1 in  range(2,5): #(2, 3, 4)\n",
        "    print(f'now name1 = {name1}')\n",
        "    for name2 in  range(1,13):\n",
        "        print(name1,' x ',name2,' = ',name1*name2)\n",
        "    print('the inner loop is end')"
      ],
      "execution_count": null,
      "outputs": [
        {
          "output_type": "stream",
          "name": "stdout",
          "text": [
            "now name1 = 2\n",
            "2  x  1  =  2\n",
            "2  x  2  =  4\n",
            "2  x  3  =  6\n",
            "2  x  4  =  8\n",
            "2  x  5  =  10\n",
            "2  x  6  =  12\n",
            "2  x  7  =  14\n",
            "2  x  8  =  16\n",
            "2  x  9  =  18\n",
            "2  x  10  =  20\n",
            "2  x  11  =  22\n",
            "2  x  12  =  24\n",
            "the inner loop is end\n",
            "now name1 = 3\n",
            "3  x  1  =  3\n",
            "3  x  2  =  6\n",
            "3  x  3  =  9\n",
            "3  x  4  =  12\n",
            "3  x  5  =  15\n",
            "3  x  6  =  18\n",
            "3  x  7  =  21\n",
            "3  x  8  =  24\n",
            "3  x  9  =  27\n",
            "3  x  10  =  30\n",
            "3  x  11  =  33\n",
            "3  x  12  =  36\n",
            "the inner loop is end\n",
            "now name1 = 4\n",
            "4  x  1  =  4\n",
            "4  x  2  =  8\n",
            "4  x  3  =  12\n",
            "4  x  4  =  16\n",
            "4  x  5  =  20\n",
            "4  x  6  =  24\n",
            "4  x  7  =  28\n",
            "4  x  8  =  32\n",
            "4  x  9  =  36\n",
            "4  x  10  =  40\n",
            "4  x  11  =  44\n",
            "4  x  12  =  48\n",
            "the inner loop is end\n"
          ]
        }
      ]
    },
    {
      "cell_type": "code",
      "source": [
        "index = 0\n",
        "for i in'Thanapong':\n",
        "    print(f'character {i} = {index}')\n",
        "    index += 1"
      ],
      "metadata": {
        "colab": {
          "base_uri": "https://localhost:8080/"
        },
        "id": "tvrZaucSBQmr",
        "outputId": "6ffc3cd1-3a66-4f0d-d265-aded97d14fa7"
      },
      "execution_count": null,
      "outputs": [
        {
          "output_type": "stream",
          "name": "stdout",
          "text": [
            "character T = 0\n",
            "character h = 1\n",
            "character a = 2\n",
            "character n = 3\n",
            "character a = 4\n",
            "character p = 5\n",
            "character o = 6\n",
            "character n = 7\n",
            "character g = 8\n"
          ]
        }
      ]
    },
    {
      "cell_type": "markdown",
      "source": [
        "# **Quiz 7 แสดงว่า ตัวเลขออกมาเป็นสามเหลี่ยมตามตัวอย่างนี้**\n",
        "ex:\n",
        "\n",
        "1\n",
        "\n",
        "2 4\n",
        "\n",
        "3 6 9\n",
        "\n",
        "4 8 12 16\n",
        "\n",
        "5 10 15 20 25"
      ],
      "metadata": {
        "id": "PSJF_WooCtg3"
      }
    },
    {
      "cell_type": "code",
      "source": [
        "for i in range(1, 6):\n",
        "  for j in range(1, i + 1):\n",
        "    print(i * j, end=' ')\n",
        "  print()"
      ],
      "metadata": {
        "id": "2QUlSJROV_z6",
        "outputId": "9e5422cf-5a46-420d-97e9-801713701a49",
        "colab": {
          "base_uri": "https://localhost:8080/"
        }
      },
      "execution_count": null,
      "outputs": [
        {
          "output_type": "stream",
          "name": "stdout",
          "text": [
            "1 \n",
            "2 4 \n",
            "3 6 9 \n",
            "4 8 12 16 \n",
            "5 10 15 20 25 \n"
          ]
        }
      ]
    },
    {
      "cell_type": "code",
      "source": [
        "for index, i in enumerate('Thanapong'):\n",
        "    print(f'character {i} level {index}')"
      ],
      "metadata": {
        "colab": {
          "base_uri": "https://localhost:8080/"
        },
        "id": "P1Nz7UZuBoqI",
        "outputId": "8ec5ccbe-4b8f-4dd2-e005-2922961b183f"
      },
      "execution_count": null,
      "outputs": [
        {
          "output_type": "stream",
          "name": "stdout",
          "text": [
            "character T level 0\n",
            "character h level 1\n",
            "character a level 2\n",
            "character n level 3\n",
            "character a level 4\n",
            "character p level 5\n",
            "character o level 6\n",
            "character n level 7\n",
            "character g level 8\n"
          ]
        }
      ]
    },
    {
      "cell_type": "markdown",
      "metadata": {
        "id": "7-FAZit8bPqi"
      },
      "source": [
        "### loop in function\n",
        "#### การวนลูปในฟังก์ชั่น¶"
      ]
    },
    {
      "cell_type": "code",
      "metadata": {
        "id": "S0r5yhbDbPqi"
      },
      "source": [
        "def print_feelings(I,friendS,feeling = 'คิดถึง'):\n",
        "    for friend in friendS:\n",
        "        print(f'{I} {feeling} {friend}')"
      ],
      "execution_count": 4,
      "outputs": []
    },
    {
      "cell_type": "code",
      "metadata": {
        "id": "_oVKj4SRfGS6"
      },
      "source": [
        "list_friends = ['คุณหนูเบียร์','พ่อใหญ่เฟิร์ส','อ้ายสีหนุ่ม','จ่าหนึ่ง','บักโส']"
      ],
      "execution_count": 5,
      "outputs": []
    },
    {
      "cell_type": "code",
      "metadata": {
        "id": "RepVZqu6bPqi",
        "outputId": "141b3de8-bc37-4b4b-cd19-b03c279e847c",
        "colab": {
          "base_uri": "https://localhost:8080/"
        }
      },
      "source": [
        "print_feelings('ฟง',list_friends)"
      ],
      "execution_count": 6,
      "outputs": [
        {
          "output_type": "stream",
          "name": "stdout",
          "text": [
            "ฟง คิดถึง คุณหนูเบียร์\n",
            "ฟง คิดถึง พ่อใหญ่เฟิร์ส\n",
            "ฟง คิดถึง อ้ายสีหนุ่ม\n",
            "ฟง คิดถึง จ่าหนึ่ง\n",
            "ฟง คิดถึง บักโส\n"
          ]
        }
      ]
    },
    {
      "cell_type": "code",
      "metadata": {
        "id": "P20pDnVaf2vK",
        "outputId": "3cf7ca28-c851-48fc-ac47-a42e9aa7ca04",
        "colab": {
          "base_uri": "https://localhost:8080/"
        }
      },
      "source": [
        "print_feelings('เจมส์',list_friends,feeling='รัก')"
      ],
      "execution_count": 7,
      "outputs": [
        {
          "output_type": "stream",
          "name": "stdout",
          "text": [
            "เจมส์ รัก คุณหนูเบียร์\n",
            "เจมส์ รัก พ่อใหญ่เฟิร์ส\n",
            "เจมส์ รัก อ้ายสีหนุ่ม\n",
            "เจมส์ รัก จ่าหนึ่ง\n",
            "เจมส์ รัก บักโส\n"
          ]
        }
      ]
    },
    {
      "cell_type": "code",
      "metadata": {
        "id": "SzHamL8JhKG4",
        "outputId": "da25ab6a-1720-477e-ea6e-5d06af751f76",
        "colab": {
          "base_uri": "https://localhost:8080/"
        }
      },
      "source": [
        "print_feelings('เจมส์',list_friends,'รัก')"
      ],
      "execution_count": 8,
      "outputs": [
        {
          "output_type": "stream",
          "name": "stdout",
          "text": [
            "เจมส์ รัก คุณหนูเบียร์\n",
            "เจมส์ รัก พ่อใหญ่เฟิร์ส\n",
            "เจมส์ รัก อ้ายสีหนุ่ม\n",
            "เจมส์ รัก จ่าหนึ่ง\n",
            "เจมส์ รัก บักโส\n"
          ]
        }
      ]
    },
    {
      "cell_type": "markdown",
      "metadata": {
        "id": "vwK7RmRJbPqj"
      },
      "source": [
        "### looping in dict\n",
        "#### ทำการวนลูปในค่า dict โดยที่เรากำหนดตัว key และvalueขึ้นมา ได้ดังนี้\n"
      ]
    },
    {
      "cell_type": "code",
      "metadata": {
        "id": "HI0F-4HobPqj",
        "outputId": "b802bcd4-bd1d-4c4f-dd55-0595ea5c4b7b",
        "colab": {
          "base_uri": "https://localhost:8080/"
        }
      },
      "source": [
        "name_grade = {'พันทิพา' : 'B','ศุภนิตา' : 'C','ปนัดดา' : 'A','ทรงกลด' : 'F'}\n",
        "name_grade"
      ],
      "execution_count": 9,
      "outputs": [
        {
          "output_type": "execute_result",
          "data": {
            "text/plain": [
              "{'พันทิพา': 'B', 'ศุภนิตา': 'C', 'ปนัดดา': 'A', 'ทรงกลด': 'F'}"
            ]
          },
          "metadata": {},
          "execution_count": 9
        }
      ]
    },
    {
      "cell_type": "code",
      "metadata": {
        "id": "jWf8aBmpbPqj",
        "outputId": "af6bedf3-e908-40d4-cf57-24a27a5cb362",
        "colab": {
          "base_uri": "https://localhost:8080/",
          "height": 36
        }
      },
      "source": [
        "name_grade['ปนัดดา']"
      ],
      "execution_count": 10,
      "outputs": [
        {
          "output_type": "execute_result",
          "data": {
            "text/plain": [
              "'A'"
            ],
            "application/vnd.google.colaboratory.intrinsic+json": {
              "type": "string"
            }
          },
          "metadata": {},
          "execution_count": 10
        }
      ]
    },
    {
      "cell_type": "code",
      "metadata": {
        "scrolled": true,
        "id": "eDqhoebhbPqj",
        "outputId": "a9ec4f1a-b3f2-4a17-d383-5c1cc500f816",
        "colab": {
          "base_uri": "https://localhost:8080/"
        }
      },
      "source": [
        "for i in name_grade.keys():\n",
        "    print(i)"
      ],
      "execution_count": 11,
      "outputs": [
        {
          "output_type": "stream",
          "name": "stdout",
          "text": [
            "พันทิพา\n",
            "ศุภนิตา\n",
            "ปนัดดา\n",
            "ทรงกลด\n"
          ]
        }
      ]
    },
    {
      "cell_type": "code",
      "metadata": {
        "id": "4CPaOKx-bPqj",
        "outputId": "21043a4a-acef-47ee-df55-83e2a2ceab1e",
        "colab": {
          "base_uri": "https://localhost:8080/"
        }
      },
      "source": [
        "name_grade.keys()"
      ],
      "execution_count": 12,
      "outputs": [
        {
          "output_type": "execute_result",
          "data": {
            "text/plain": [
              "dict_keys(['พันทิพา', 'ศุภนิตา', 'ปนัดดา', 'ทรงกลด'])"
            ]
          },
          "metadata": {},
          "execution_count": 12
        }
      ]
    },
    {
      "cell_type": "code",
      "metadata": {
        "id": "Imvq4faObPqj",
        "outputId": "a5827f1f-7cdf-4d82-a4bb-fa1d3a347860",
        "colab": {
          "base_uri": "https://localhost:8080/"
        }
      },
      "source": [
        "for i in name_grade.keys():\n",
        "    print(f'{i} ได้เกรด {name_grade[i]}')"
      ],
      "execution_count": 13,
      "outputs": [
        {
          "output_type": "stream",
          "name": "stdout",
          "text": [
            "พันทิพา ได้เกรด B\n",
            "ศุภนิตา ได้เกรด C\n",
            "ปนัดดา ได้เกรด A\n",
            "ทรงกลด ได้เกรด F\n"
          ]
        }
      ]
    },
    {
      "cell_type": "markdown",
      "source": [
        "#HW3 เพิ่ม loop เข้าไปใน Quiz 6 โดยลูป คำนวณ วินาทีในโจทย์ต่อไปนี้"
      ],
      "metadata": {
        "id": "RqijB7dNS1oO"
      }
    },
    {
      "cell_type": "markdown",
      "metadata": {
        "id": "pLDGW8IobPqk"
      },
      "source": [
        "### conditional คือ เงื่อนไข /ประโยคเงื่อนไข"
      ]
    },
    {
      "cell_type": "markdown",
      "metadata": {
        "id": "8_-zCLkrbPqk"
      },
      "source": [
        "##### True / False\n",
        "##### การวนลูปโดยมีเงื่อนไขต่างๆมาเกี่ยวข้อง โดยมี pattern ดังนี้\n"
      ]
    },
    {
      "cell_type": "markdown",
      "metadata": {
        "id": "ZQuWb-bybPqk"
      },
      "source": [
        "```Python\n",
        "if condition1 :\n",
        "    do something\n",
        "elif condition2 :  #elif คือ else if\n",
        "    do another thing\n",
        "else:\n",
        "    do ...\n",
        "```\n",
        "    "
      ]
    },
    {
      "cell_type": "code",
      "metadata": {
        "id": "6md22aPOlKWX",
        "outputId": "24835ec5-6375-4217-fab1-58c2b251cc14",
        "colab": {
          "base_uri": "https://localhost:8080/"
        }
      },
      "source": [
        "print(list_friends)"
      ],
      "execution_count": 15,
      "outputs": [
        {
          "output_type": "stream",
          "name": "stdout",
          "text": [
            "['คุณหนูเบียร์', 'พ่อใหญ่เฟิร์ส', 'อ้ายสีหนุ่ม', 'จ่าหนึ่ง', 'บักโส']\n"
          ]
        }
      ]
    },
    {
      "cell_type": "code",
      "metadata": {
        "id": "NsHtmTbjbPqk",
        "outputId": "1c3a0377-054b-4324-c5e3-a32d33a1b31d",
        "colab": {
          "base_uri": "https://localhost:8080/"
        }
      },
      "source": [
        "for name1 in list_friends :\n",
        "    for name2 in list_friends :\n",
        "            print(name1,'รัก',name2)"
      ],
      "execution_count": 14,
      "outputs": [
        {
          "output_type": "stream",
          "name": "stdout",
          "text": [
            "คุณหนูเบียร์ รัก คุณหนูเบียร์\n",
            "คุณหนูเบียร์ รัก พ่อใหญ่เฟิร์ส\n",
            "คุณหนูเบียร์ รัก อ้ายสีหนุ่ม\n",
            "คุณหนูเบียร์ รัก จ่าหนึ่ง\n",
            "คุณหนูเบียร์ รัก บักโส\n",
            "พ่อใหญ่เฟิร์ส รัก คุณหนูเบียร์\n",
            "พ่อใหญ่เฟิร์ส รัก พ่อใหญ่เฟิร์ส\n",
            "พ่อใหญ่เฟิร์ส รัก อ้ายสีหนุ่ม\n",
            "พ่อใหญ่เฟิร์ส รัก จ่าหนึ่ง\n",
            "พ่อใหญ่เฟิร์ส รัก บักโส\n",
            "อ้ายสีหนุ่ม รัก คุณหนูเบียร์\n",
            "อ้ายสีหนุ่ม รัก พ่อใหญ่เฟิร์ส\n",
            "อ้ายสีหนุ่ม รัก อ้ายสีหนุ่ม\n",
            "อ้ายสีหนุ่ม รัก จ่าหนึ่ง\n",
            "อ้ายสีหนุ่ม รัก บักโส\n",
            "จ่าหนึ่ง รัก คุณหนูเบียร์\n",
            "จ่าหนึ่ง รัก พ่อใหญ่เฟิร์ส\n",
            "จ่าหนึ่ง รัก อ้ายสีหนุ่ม\n",
            "จ่าหนึ่ง รัก จ่าหนึ่ง\n",
            "จ่าหนึ่ง รัก บักโส\n",
            "บักโส รัก คุณหนูเบียร์\n",
            "บักโส รัก พ่อใหญ่เฟิร์ส\n",
            "บักโส รัก อ้ายสีหนุ่ม\n",
            "บักโส รัก จ่าหนึ่ง\n",
            "บักโส รัก บักโส\n"
          ]
        }
      ]
    },
    {
      "cell_type": "code",
      "metadata": {
        "id": "AR68KQ09lWu5",
        "outputId": "f70164fa-9438-48eb-fb80-8bd2c34171d9",
        "colab": {
          "base_uri": "https://localhost:8080/"
        }
      },
      "source": [
        "for name1 in list_friends:\n",
        "    for name2 in list_friends:\n",
        "        if name1 != name2: #ไม่ปริ้นชื่อคนเดียวกันซ้ำ\n",
        "            print(name1,'รัก',name2)"
      ],
      "execution_count": 16,
      "outputs": [
        {
          "output_type": "stream",
          "name": "stdout",
          "text": [
            "คุณหนูเบียร์ รัก พ่อใหญ่เฟิร์ส\n",
            "คุณหนูเบียร์ รัก อ้ายสีหนุ่ม\n",
            "คุณหนูเบียร์ รัก จ่าหนึ่ง\n",
            "คุณหนูเบียร์ รัก บักโส\n",
            "พ่อใหญ่เฟิร์ส รัก คุณหนูเบียร์\n",
            "พ่อใหญ่เฟิร์ส รัก อ้ายสีหนุ่ม\n",
            "พ่อใหญ่เฟิร์ส รัก จ่าหนึ่ง\n",
            "พ่อใหญ่เฟิร์ส รัก บักโส\n",
            "อ้ายสีหนุ่ม รัก คุณหนูเบียร์\n",
            "อ้ายสีหนุ่ม รัก พ่อใหญ่เฟิร์ส\n",
            "อ้ายสีหนุ่ม รัก จ่าหนึ่ง\n",
            "อ้ายสีหนุ่ม รัก บักโส\n",
            "จ่าหนึ่ง รัก คุณหนูเบียร์\n",
            "จ่าหนึ่ง รัก พ่อใหญ่เฟิร์ส\n",
            "จ่าหนึ่ง รัก อ้ายสีหนุ่ม\n",
            "จ่าหนึ่ง รัก บักโส\n",
            "บักโส รัก คุณหนูเบียร์\n",
            "บักโส รัก พ่อใหญ่เฟิร์ส\n",
            "บักโส รัก อ้ายสีหนุ่ม\n",
            "บักโส รัก จ่าหนึ่ง\n"
          ]
        }
      ]
    },
    {
      "cell_type": "code",
      "metadata": {
        "id": "agEHNNiQl5Kf",
        "outputId": "4671f722-327f-4b00-b46d-83913e8238f2",
        "colab": {
          "base_uri": "https://localhost:8080/"
        }
      },
      "source": [
        "for name1 in list_friends:\n",
        "    for name2 in list_friends:\n",
        "        if name1 == name2: #ปริ้นชื่อคนเดียวกันซ้ำ\n",
        "            print(name1,'รัก',name2)"
      ],
      "execution_count": 17,
      "outputs": [
        {
          "output_type": "stream",
          "name": "stdout",
          "text": [
            "คุณหนูเบียร์ รัก คุณหนูเบียร์\n",
            "พ่อใหญ่เฟิร์ส รัก พ่อใหญ่เฟิร์ส\n",
            "อ้ายสีหนุ่ม รัก อ้ายสีหนุ่ม\n",
            "จ่าหนึ่ง รัก จ่าหนึ่ง\n",
            "บักโส รัก บักโส\n"
          ]
        }
      ]
    },
    {
      "cell_type": "code",
      "metadata": {
        "id": "zwaS_D0kmFPD",
        "outputId": "4849eac5-4f9e-46f6-a776-648e52154655",
        "colab": {
          "base_uri": "https://localhost:8080/"
        }
      },
      "source": [
        "for name1 in list_friends:\n",
        "    for name2 in list_friends:\n",
        "        if name1 == name2:\n",
        "            'do nothing'\n",
        "        else:\n",
        "            print(name1,'รัก',name2)"
      ],
      "execution_count": 18,
      "outputs": [
        {
          "output_type": "stream",
          "name": "stdout",
          "text": [
            "คุณหนูเบียร์ รัก พ่อใหญ่เฟิร์ส\n",
            "คุณหนูเบียร์ รัก อ้ายสีหนุ่ม\n",
            "คุณหนูเบียร์ รัก จ่าหนึ่ง\n",
            "คุณหนูเบียร์ รัก บักโส\n",
            "พ่อใหญ่เฟิร์ส รัก คุณหนูเบียร์\n",
            "พ่อใหญ่เฟิร์ส รัก อ้ายสีหนุ่ม\n",
            "พ่อใหญ่เฟิร์ส รัก จ่าหนึ่ง\n",
            "พ่อใหญ่เฟิร์ส รัก บักโส\n",
            "อ้ายสีหนุ่ม รัก คุณหนูเบียร์\n",
            "อ้ายสีหนุ่ม รัก พ่อใหญ่เฟิร์ส\n",
            "อ้ายสีหนุ่ม รัก จ่าหนึ่ง\n",
            "อ้ายสีหนุ่ม รัก บักโส\n",
            "จ่าหนึ่ง รัก คุณหนูเบียร์\n",
            "จ่าหนึ่ง รัก พ่อใหญ่เฟิร์ส\n",
            "จ่าหนึ่ง รัก อ้ายสีหนุ่ม\n",
            "จ่าหนึ่ง รัก บักโส\n",
            "บักโส รัก คุณหนูเบียร์\n",
            "บักโส รัก พ่อใหญ่เฟิร์ส\n",
            "บักโส รัก อ้ายสีหนุ่ม\n",
            "บักโส รัก จ่าหนึ่ง\n"
          ]
        }
      ]
    },
    {
      "cell_type": "markdown",
      "metadata": {
        "id": "kUPdCRG7bPqk"
      },
      "source": [
        "#### ==, !=,>=,<=,<,>"
      ]
    },
    {
      "cell_type": "code",
      "metadata": {
        "id": "p4IXGFYDm_e-",
        "outputId": "6640a6b5-25d8-420c-fff8-6b01e2d1698f",
        "colab": {
          "base_uri": "https://localhost:8080/"
        }
      },
      "source": [
        "'พี่บูม' == 'พี่เจ็ท'"
      ],
      "execution_count": 19,
      "outputs": [
        {
          "output_type": "execute_result",
          "data": {
            "text/plain": [
              "False"
            ]
          },
          "metadata": {},
          "execution_count": 19
        }
      ]
    },
    {
      "cell_type": "code",
      "metadata": {
        "id": "yXA87OOmnH4A",
        "outputId": "16639b3c-8221-42ab-d580-4dab4b1e0401",
        "colab": {
          "base_uri": "https://localhost:8080/"
        }
      },
      "source": [
        "'พี่บูม' != 'พี่เจ็ท'"
      ],
      "execution_count": 20,
      "outputs": [
        {
          "output_type": "execute_result",
          "data": {
            "text/plain": [
              "True"
            ]
          },
          "metadata": {},
          "execution_count": 20
        }
      ]
    },
    {
      "cell_type": "markdown",
      "metadata": {
        "id": "OavN4AjAbPqk"
      },
      "source": [
        "#### หากหลังเงื่อนไข True ถูกต้องจะทำการ print ข้อความออกมาว่า Yes"
      ]
    },
    {
      "cell_type": "code",
      "metadata": {
        "id": "QPxAQKm4bPql",
        "outputId": "1512e3c1-1ceb-4f44-9b2c-4788fc782e33",
        "colab": {
          "base_uri": "https://localhost:8080/"
        }
      },
      "source": [
        "if True:\n",
        "    print('Yes')"
      ],
      "execution_count": 21,
      "outputs": [
        {
          "output_type": "stream",
          "name": "stdout",
          "text": [
            "Yes\n"
          ]
        }
      ]
    },
    {
      "cell_type": "code",
      "metadata": {
        "id": "tqdBRcVSbPql"
      },
      "source": [
        "if False:\n",
        "    print('No')"
      ],
      "execution_count": 22,
      "outputs": []
    },
    {
      "cell_type": "markdown",
      "metadata": {
        "id": "_9xpvw3jbPql"
      },
      "source": [
        "#### หากหลังเงื่อนไข False ไม่ถูกต้องจะไม่ปริ้นข้อความใดๆออกมา\n",
        "#### ซึ่งจะต้องใช้เงื่อนไขนี้ จึงจะได้ปริ้นค่าเงื่อนไขนั้นออกมา ดังนี้"
      ]
    },
    {
      "cell_type": "code",
      "metadata": {
        "id": "1e0IcdsMbPql",
        "outputId": "6517f390-ae07-496e-8c9c-4eb8878ca09d",
        "colab": {
          "base_uri": "https://localhost:8080/"
        }
      },
      "source": [
        "if False:\n",
        "    print('Yes')\n",
        "else:\n",
        "    print('No')"
      ],
      "execution_count": 23,
      "outputs": [
        {
          "output_type": "stream",
          "name": "stdout",
          "text": [
            "No\n"
          ]
        }
      ]
    },
    {
      "cell_type": "markdown",
      "metadata": {
        "id": "sSySEFHNbPql"
      },
      "source": [
        "# HW\n",
        "#### เขียน function ตัดเกรด โดยที่ input เป็นคะแนน(0-100) , output เป็นเกรด (F-A)\n",
        "#### วนลูปตัดเกรด input = [1,50,65,90,101,-5,49]"
      ]
    },
    {
      "cell_type": "markdown",
      "metadata": {
        "id": "c3TDhZHzbPqm"
      },
      "source": [
        "##### กำหนด\n",
        "      ถ้าคะแนนอยู่ระหว่างมากกว่าหรือเท่ากับ  0  แต่น้อยกว่า 50 จะได้เกรด F\n",
        "      ถ้าคะแนนอยู่ระหว่างมากกว่าหรือเท่ากับ 50 แต่น้อยกว่า 55 จะได้เกรด D\n",
        "      ถ้าคะแนนอยู่ระหว่างมากกว่าหรือเท่ากับ 55 แต่น้อยกว่า 60 จะได้เกรด D+\n",
        "      ถ้าคะแนนอยู่ระหว่างมากกว่าหรือเท่ากับ 60 แต่น้อยกว่า 65 จะได้เกรด C\n",
        "      ถ้าคะแนนอยู่ระหว่างมากกว่าหรือเท่ากับ 65 แต่น้อยกว่า 70 จะได้เกรด C+\n",
        "      ถ้าคะแนนอยู่ระหว่างมากกว่าหรือเท่ากับ 70 แต่น้อยกว่า 75 จะได้เกรด B\n",
        "      ถ้าคะแนนอยู่ระหว่างมากกว่าหรือเท่ากับ 75 แต่น้อยกว่า 80 จะได้เกรด B+\n",
        "      ถ้าคะแนนอยู่ระหว่างมากกว่าหรือเท่ากับ 80  จะได้เกรด A\n",
        "      แต่ว่าค่าคะแนนจะต้องไม่ต่ำกว่า 0 และมากกว่า 100 ไม่งั้นจะเกิด error"
      ]
    },
    {
      "cell_type": "markdown",
      "source": [
        "## ```&```, ```|```, ```in```, ```is```   :  Operator อื่นๆ"
      ],
      "metadata": {
        "id": "HSMQXdmmipMp"
      }
    },
    {
      "cell_type": "code",
      "source": [
        "if (1>0) & (0>-1):\n",
        "    print(True & True)"
      ],
      "metadata": {
        "id": "ES5d1z0ti306",
        "outputId": "f26357a8-b2d8-41d0-88b5-487f8a7e79c5",
        "colab": {
          "base_uri": "https://localhost:8080/"
        }
      },
      "execution_count": 38,
      "outputs": [
        {
          "output_type": "stream",
          "name": "stdout",
          "text": [
            "True\n"
          ]
        }
      ]
    },
    {
      "cell_type": "code",
      "source": [
        "if 'T' in 'Thanapong':\n",
        "    print('T in Thanapong')"
      ],
      "metadata": {
        "id": "3COnyOTKipAc",
        "outputId": "4cd2b465-0767-42e4-fbff-36e4e44fda01",
        "colab": {
          "base_uri": "https://localhost:8080/"
        }
      },
      "execution_count": 39,
      "outputs": [
        {
          "output_type": "stream",
          "name": "stdout",
          "text": [
            "T in Thanapong\n"
          ]
        }
      ]
    },
    {
      "cell_type": "code",
      "source": [
        "def return_nothing(x):\n",
        "    x = x+1"
      ],
      "metadata": {
        "id": "01N3TOG9k3ti"
      },
      "execution_count": 40,
      "outputs": []
    },
    {
      "cell_type": "code",
      "source": [
        "a = return_nothing(5)"
      ],
      "metadata": {
        "id": "drWbuBwNldOL"
      },
      "execution_count": 41,
      "outputs": []
    },
    {
      "cell_type": "code",
      "source": [
        "if a is None:\n",
        "    print('x is null')"
      ],
      "metadata": {
        "id": "pOj0pkEEkbuW",
        "outputId": "7e0efd22-a8d5-49d3-8f94-34b40de5b479",
        "colab": {
          "base_uri": "https://localhost:8080/"
        }
      },
      "execution_count": 42,
      "outputs": [
        {
          "output_type": "stream",
          "name": "stdout",
          "text": [
            "x is null\n"
          ]
        }
      ]
    },
    {
      "cell_type": "code",
      "source": [
        "if (2 < 3) & 7 in range(10):\n",
        "    print('Yes')\n",
        "else:\n",
        "    print('No')"
      ],
      "metadata": {
        "colab": {
          "base_uri": "https://localhost:8080/"
        },
        "id": "2s0E9UvYSypr",
        "outputId": "c88cb921-bd46-4e61-c51e-ea6752e77dad"
      },
      "execution_count": 45,
      "outputs": [
        {
          "output_type": "stream",
          "name": "stdout",
          "text": [
            "Yes\n"
          ]
        }
      ]
    },
    {
      "cell_type": "code",
      "source": [],
      "metadata": {
        "id": "ft7SOwU_VpM8"
      },
      "execution_count": null,
      "outputs": []
    },
    {
      "cell_type": "code",
      "source": [
        "numbers = [0,2,8,24,5,60,70,81,9,10]\n",
        "\n",
        "def check_odd_in_list(input_list):\n",
        "    for i in input_list:\n",
        "        if i % 2  != 0:\n",
        "           print(f'มีเลขคี่{i}')\n",
        "           return\n",
        "\n",
        "    print('ไม่มีเลขคี่')\n",
        "    return input_list\n",
        "\n",
        "check_odd_in_list(numbers)\n",
        "check_odd_in_list([0,2,8,24])"
      ],
      "metadata": {
        "id": "y1ET-H8ylyxP",
        "colab": {
          "base_uri": "https://localhost:8080/"
        },
        "outputId": "ebdc04ef-58c4-4243-826e-2cf8e43ccf12"
      },
      "execution_count": 55,
      "outputs": [
        {
          "output_type": "stream",
          "name": "stdout",
          "text": [
            "มีเลขคี่5\n",
            "ไม่มีเลขคี่\n"
          ]
        },
        {
          "output_type": "execute_result",
          "data": {
            "text/plain": [
              "[0, 2, 8, 24]"
            ]
          },
          "metadata": {},
          "execution_count": 55
        }
      ]
    },
    {
      "cell_type": "markdown",
      "metadata": {
        "id": "Bg3vVE3GbPqn"
      },
      "source": [
        "# Finish"
      ]
    }
  ]
}