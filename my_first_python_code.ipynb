{
  "nbformat": 4,
  "nbformat_minor": 0,
  "metadata": {
    "colab": {
      "provenance": [],
      "authorship_tag": "ABX9TyOutUgte7T98Tw1DsKm+jed",
      "include_colab_link": true
    },
    "kernelspec": {
      "name": "python3",
      "display_name": "Python 3"
    },
    "language_info": {
      "name": "python"
    }
  },
  "cells": [
    {
      "cell_type": "markdown",
      "metadata": {
        "id": "view-in-github",
        "colab_type": "text"
      },
      "source": [
        "<a href=\"https://colab.research.google.com/github/Panachai-spec007/dataviz2025/blob/main/my_first_python_code.ipynb\" target=\"_parent\"><img src=\"https://colab.research.google.com/assets/colab-badge.svg\" alt=\"Open In Colab\"/></a>"
      ]
    },
    {
      "cell_type": "markdown",
      "source": [
        "Here we can write using **Markdown**"
      ],
      "metadata": {
        "id": "HCTWKmHjIDA5"
      }
    },
    {
      "cell_type": "markdown",
      "source": [
        "#intro"
      ],
      "metadata": {
        "id": "qXwCR5gBIO_j"
      }
    },
    {
      "cell_type": "markdown",
      "source": [
        "##name"
      ],
      "metadata": {
        "id": "Xd-B89ANIWIe"
      }
    },
    {
      "cell_type": "code",
      "source": [
        "print(\"Panachai\")"
      ],
      "metadata": {
        "colab": {
          "base_uri": "https://localhost:8080/"
        },
        "id": "mGnSsXUVImUg",
        "outputId": "a136b69d-7b08-47a5-8af4-e8975e1c581d"
      },
      "execution_count": 1,
      "outputs": [
        {
          "output_type": "stream",
          "name": "stdout",
          "text": [
            "Panachai\n"
          ]
        }
      ]
    },
    {
      "cell_type": "markdown",
      "source": [
        "##surname"
      ],
      "metadata": {
        "id": "LirnXr88Ifq2"
      }
    },
    {
      "cell_type": "code",
      "source": [
        "print('Kaeothaisong')"
      ],
      "metadata": {
        "colab": {
          "base_uri": "https://localhost:8080/"
        },
        "id": "AGhTGzpqImsu",
        "outputId": "854a9522-14eb-42de-a8af-34e91ad048cf"
      },
      "execution_count": 3,
      "outputs": [
        {
          "output_type": "stream",
          "name": "stdout",
          "text": [
            "Kaeothaisong\n"
          ]
        }
      ]
    }
  ]
}