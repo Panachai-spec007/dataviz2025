{
  "nbformat": 4,
  "nbformat_minor": 0,
  "metadata": {
    "colab": {
      "provenance": [],
      "authorship_tag": "ABX9TyNF0LS0Orcd22fcclsp9Whx",
      "include_colab_link": true
    },
    "kernelspec": {
      "name": "python3",
      "display_name": "Python 3"
    },
    "language_info": {
      "name": "python"
    }
  },
  "cells": [
    {
      "cell_type": "markdown",
      "metadata": {
        "id": "view-in-github",
        "colab_type": "text"
      },
      "source": [
        "<a href=\"https://colab.research.google.com/github/Panachai-spec007/dataviz2025/blob/main/Untitled9.ipynb\" target=\"_parent\"><img src=\"https://colab.research.google.com/assets/colab-badge.svg\" alt=\"Open In Colab\"/></a>"
      ]
    },
    {
      "cell_type": "code",
      "source": [
        "from google.colab import drive\n",
        "import os\n",
        "import pandas as pd"
      ],
      "metadata": {
        "id": "TB-vmROT2zPV"
      },
      "execution_count": 1,
      "outputs": []
    },
    {
      "cell_type": "code",
      "source": [
        "drive.mount('/content/drive')"
      ],
      "metadata": {
        "colab": {
          "base_uri": "https://localhost:8080/"
        },
        "id": "XqcrnvrZ20f4",
        "outputId": "be37ac8e-125f-414b-e42f-a9b34f79dac0"
      },
      "execution_count": 2,
      "outputs": [
        {
          "output_type": "stream",
          "name": "stdout",
          "text": [
            "Mounted at /content/drive\n"
          ]
        }
      ]
    },
    {
      "cell_type": "code",
      "execution_count": 3,
      "metadata": {
        "colab": {
          "base_uri": "https://localhost:8080/"
        },
        "id": "UYpmTx-g2sas",
        "outputId": "7b2083ea-e2ed-40f7-e486-f897943880b8"
      },
      "outputs": [
        {
          "output_type": "stream",
          "name": "stdout",
          "text": [
            "\n",
            "=== รายงานการเรียกค้นผู้มีเชื้อสายเอเชีย จำแนกตามเดือน ===\n",
            "\n",
            " 1. 2025-01    : 2,874 คน\n",
            " 2. 2025-02    : 2,244 คน\n",
            " 3. 2025-04    : 2,224 คน\n",
            " 4. 2025-03    : 2,137 คน\n",
            " 5. 2025-05    : 1,737 คน\n",
            "\n",
            "====== สรุป ======\n",
            " มากที่สุด  : 2025-01 (2,874 คน)\n",
            " น้อยที่สุด : 2025-05 (1,737 คน)\n"
          ]
        }
      ],
      "source": [
        "# ฟังก์ชันอ่านข้อมูลจากทุกโฟลเดอร์\n",
        "def read_all_data(base_path):\n",
        "    all_dfs = []\n",
        "    months = os.listdir(base_path)\n",
        "\n",
        "    for month in months:\n",
        "        month_path = os.path.join(base_path, month)\n",
        "        if os.path.isdir(month_path):\n",
        "            files = os.listdir(month_path)\n",
        "            for file in files:\n",
        "                if 'stop-and-search' in file and file.endswith('.csv'):\n",
        "                    filepath = os.path.join(month_path, file)\n",
        "                    df = pd.read_csv(filepath)\n",
        "\n",
        "                    city = file.replace('-stop-and-search.csv', '').split('-', 2)[-1]\n",
        "                    df['Police Force'] = city\n",
        "                    df['Month'] = month     # ← เพิ่มบรรทัดนี้ เพื่อเก็บเดือน\n",
        "\n",
        "                    all_dfs.append(df)\n",
        "    return all_dfs\n",
        "\n",
        "# ฟังก์ชันนับจำนวนคนเชื้อสายเอเชีย ตามเดือน\n",
        "def count_asian_people_by_month(all_dfs):\n",
        "    asian_counts = {}\n",
        "\n",
        "    for df in all_dfs:\n",
        "        month = df['Month'].iloc[0]   # ← เดือนของไฟล์นี้\n",
        "        for i in range(len(df)):\n",
        "            ethnicity = str(df.iloc[i].get('Self-defined ethnicity', ''))\n",
        "            if 'Asian' in ethnicity:\n",
        "                if month not in asian_counts:\n",
        "                    asian_counts[month] = 0\n",
        "                asian_counts[month] += 1\n",
        "    return asian_counts\n",
        "\n",
        "\n",
        "# เรียกใช้\n",
        "base_path = '/content/drive/MyDrive/Dataviz2025/Data'\n",
        "dataframes = read_all_data(base_path)\n",
        "counts = count_asian_people_by_month(dataframes)\n",
        "\n",
        "# แสดงผล\n",
        "if counts:\n",
        "    most_month = max(counts, key=counts.get)\n",
        "    fewest_month = min(counts, key=counts.get)\n",
        "\n",
        "    print(\"\\n=== รายงานการเรียกค้นผู้มีเชื้อสายเอเชีย จำแนกตามเดือน ===\\n\")\n",
        "    for i, month in enumerate(sorted(counts, key=counts.get, reverse=True), start=1):\n",
        "        print(f\"{i:>2}. {month.ljust(10)} : {counts[month]:,} คน\")\n",
        "\n",
        "    print(\"\\n====== สรุป ======\")\n",
        "    print(f\" มากที่สุด  : {most_month} ({counts[most_month]:,} คน)\")\n",
        "    print(f\" น้อยที่สุด : {fewest_month} ({counts[fewest_month]:,} คน)\")\n",
        "else:\n",
        "    print(\"ไม่พบข้อมูลที่เกี่ยวข้องกับผู้มีเชื้อสายเอเชีย\")\n"
      ]
    }
  ]
}